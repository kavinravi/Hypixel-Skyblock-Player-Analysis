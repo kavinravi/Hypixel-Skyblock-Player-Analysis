{
  "nbformat": 4,
  "nbformat_minor": 0,
  "metadata": {
    "colab": {
      "provenance": []
    },
    "kernelspec": {
      "name": "python3",
      "display_name": "Python 3"
    },
    "language_info": {
      "name": "python"
    }
  },
  "cells": [
    {
      "cell_type": "markdown",
      "source": [
        "##Packages"
      ],
      "metadata": {
        "id": "YLJCd8uMzkVE"
      }
    },
    {
      "cell_type": "code",
      "source": [
        "import warnings\n",
        "warnings.filterwarnings('ignore')\n",
        "\n",
        "# data imports\n",
        "import pandas as pd\n",
        "import numpy as np\n",
        "from plotnine import *\n",
        "\n",
        "# modeling imports\n",
        "from sklearn.linear_model import LinearRegression, LassoCV, RidgeCV, LogisticRegression # Linear Regression Model\n",
        "from sklearn.preprocessing import StandardScaler, OneHotEncoder, PolynomialFeatures #Z-score variables, Polynomial\n",
        "from sklearn.metrics import mean_squared_error, r2_score, mean_absolute_percentage_error, mean_absolute_error, accuracy_score #model evaluation\n",
        "from sklearn.model_selection import train_test_split, KFold, LeaveOneOut\n",
        "\n",
        "# pipeline imports\n",
        "from sklearn.pipeline import make_pipeline, Pipeline\n",
        "from sklearn.compose import make_column_transformer\n",
        "\n",
        "%matplotlib inline"
      ],
      "metadata": {
        "id": "BJ-zLGCBX7y3"
      },
      "execution_count": null,
      "outputs": []
    },
    {
      "cell_type": "code",
      "source": [
        "!pip install ipython-autotime\n",
        "%load_ext autotime"
      ],
      "metadata": {
        "id": "eEPTj8sxnprn",
        "colab": {
          "base_uri": "https://localhost:8080/"
        },
        "outputId": "512af76f-6200-4ef4-ffdd-29f9f6c6dd61"
      },
      "execution_count": null,
      "outputs": [
        {
          "output_type": "stream",
          "name": "stdout",
          "text": [
            "Collecting ipython-autotime\n",
            "  Downloading ipython_autotime-0.3.2-py2.py3-none-any.whl (7.0 kB)\n",
            "Requirement already satisfied: ipython in /usr/local/lib/python3.10/dist-packages (from ipython-autotime) (7.34.0)\n",
            "Requirement already satisfied: setuptools>=18.5 in /usr/local/lib/python3.10/dist-packages (from ipython->ipython-autotime) (67.7.2)\n",
            "Collecting jedi>=0.16 (from ipython->ipython-autotime)\n",
            "  Downloading jedi-0.19.1-py2.py3-none-any.whl (1.6 MB)\n",
            "\u001b[2K     \u001b[90m━━━━━━━━━━━━━━━━━━━━━━━━━━━━━━━━━━━━━━━━\u001b[0m \u001b[32m1.6/1.6 MB\u001b[0m \u001b[31m5.7 MB/s\u001b[0m eta \u001b[36m0:00:00\u001b[0m\n",
            "\u001b[?25hRequirement already satisfied: decorator in /usr/local/lib/python3.10/dist-packages (from ipython->ipython-autotime) (4.4.2)\n",
            "Requirement already satisfied: pickleshare in /usr/local/lib/python3.10/dist-packages (from ipython->ipython-autotime) (0.7.5)\n",
            "Requirement already satisfied: traitlets>=4.2 in /usr/local/lib/python3.10/dist-packages (from ipython->ipython-autotime) (5.7.1)\n",
            "Requirement already satisfied: prompt-toolkit!=3.0.0,!=3.0.1,<3.1.0,>=2.0.0 in /usr/local/lib/python3.10/dist-packages (from ipython->ipython-autotime) (3.0.43)\n",
            "Requirement already satisfied: pygments in /usr/local/lib/python3.10/dist-packages (from ipython->ipython-autotime) (2.16.1)\n",
            "Requirement already satisfied: backcall in /usr/local/lib/python3.10/dist-packages (from ipython->ipython-autotime) (0.2.0)\n",
            "Requirement already satisfied: matplotlib-inline in /usr/local/lib/python3.10/dist-packages (from ipython->ipython-autotime) (0.1.7)\n",
            "Requirement already satisfied: pexpect>4.3 in /usr/local/lib/python3.10/dist-packages (from ipython->ipython-autotime) (4.9.0)\n",
            "Requirement already satisfied: parso<0.9.0,>=0.8.3 in /usr/local/lib/python3.10/dist-packages (from jedi>=0.16->ipython->ipython-autotime) (0.8.4)\n",
            "Requirement already satisfied: ptyprocess>=0.5 in /usr/local/lib/python3.10/dist-packages (from pexpect>4.3->ipython->ipython-autotime) (0.7.0)\n",
            "Requirement already satisfied: wcwidth in /usr/local/lib/python3.10/dist-packages (from prompt-toolkit!=3.0.0,!=3.0.1,<3.1.0,>=2.0.0->ipython->ipython-autotime) (0.2.13)\n",
            "Installing collected packages: jedi, ipython-autotime\n",
            "Successfully installed ipython-autotime-0.3.2 jedi-0.19.1\n",
            "time: 357 µs (started: 2024-05-10 20:13:33 +00:00)\n"
          ]
        }
      ]
    },
    {
      "cell_type": "code",
      "source": [
        "print(\"hello world\")"
      ],
      "metadata": {
        "colab": {
          "base_uri": "https://localhost:8080/"
        },
        "id": "7DHk8vx_n_3f",
        "outputId": "c70f1b42-36e6-4abe-97c0-2543749ca7e7"
      },
      "execution_count": null,
      "outputs": [
        {
          "output_type": "stream",
          "name": "stdout",
          "text": [
            "hello world\n",
            "time: 533 µs (started: 2024-05-10 20:13:33 +00:00)\n"
          ]
        }
      ]
    },
    {
      "cell_type": "markdown",
      "source": [
        "##This grabs skills, level, and networth of the players"
      ],
      "metadata": {
        "id": "3kZ1Ad_WGEBQ"
      }
    },
    {
      "cell_type": "code",
      "source": [
        "import requests\n",
        "\n",
        "player_name = \"deathstreeks\"  # Replace with the player's Minecraft username\n",
        "\n",
        "# Make a GET request to fetch the player's profile data\n",
        "response = requests.get(f\"https://sky.shiiyu.moe/api/v2/profile/{player_name}\")\n",
        "\n",
        "# Check if the request was successful (status code 200)\n",
        "if response.status_code == 200:\n",
        "    # Parse the JSON response\n",
        "    player_data = response.json()\n",
        "\n",
        "    # Iterate over each profile to check if \"current\" is true\n",
        "    for profile_uuid, profile_data in player_data.get('profiles', {}).items():\n",
        "        if profile_data.get('current', False):\n",
        "            # Extract the skill data for the specified player\n",
        "            player_skills = {}\n",
        "\n",
        "            # Navigate through the JSON structure to find the skill data\n",
        "            if 'data' in profile_data and 'skills' in profile_data['data']:\n",
        "                skills_data = profile_data['data']['skills'].get('skills', {})\n",
        "                for skill_name in ['taming', 'farming', 'mining', 'combat', 'foraging', 'fishing', 'enchanting', 'alchemy', 'carpentry', 'runecrafting', 'social']:\n",
        "                    skill_level = skills_data.get(skill_name, {}).get('level')\n",
        "                    if skill_level is not None:\n",
        "                        player_skills[skill_name] = skill_level\n",
        "\n",
        "            # Extract player net worth\n",
        "            player_networth = profile_data['data'].get('networth', {}).get('networth')\n",
        "\n",
        "            # Extract player level\n",
        "            player_level = profile_data['data'].get('skyblock_level', {}).get('level')\n",
        "\n",
        "            # Print player data\n",
        "            if player_level is not None:\n",
        "                print(f\"Player level: {player_level}\")\n",
        "\n",
        "            if player_networth is not None:\n",
        "                print(f\"Player net worth: {player_networth}\")\n",
        "\n",
        "            if player_skills:\n",
        "                # Print the skill values for the player\n",
        "                print(\"Player skills:\")\n",
        "                for skill_name, skill_level in player_skills.items():\n",
        "                    print(f\"{skill_name.capitalize()}: {skill_level}\")\n",
        "\n",
        "            if not player_skills and player_networth is None and player_level is None:\n",
        "                print(\"No data found for the player.\")\n",
        "\n",
        "            # Exit the loop after processing the current profile\n",
        "            break\n",
        "    else:\n",
        "        print(\"No current profile found for the player.\")\n",
        "else:\n",
        "    # Print an error message if the request was unsuccessful\n",
        "    print(\"Failed to fetch player data.\")\n"
      ],
      "metadata": {
        "colab": {
          "base_uri": "https://localhost:8080/"
        },
        "id": "ju9SeugZh3mf",
        "outputId": "471b637c-7f05-4c20-8fee-684778635c46"
      },
      "execution_count": null,
      "outputs": [
        {
          "output_type": "stream",
          "name": "stdout",
          "text": [
            "Player level: 454\n",
            "Player net worth: 325504102404.6822\n",
            "Player skills:\n",
            "Taming: 60\n",
            "Farming: 60\n",
            "Mining: 60\n",
            "Combat: 60\n",
            "Foraging: 50\n",
            "Fishing: 50\n",
            "Enchanting: 60\n",
            "Alchemy: 50\n",
            "Carpentry: 50\n",
            "Runecrafting: 25\n",
            "Social: 25\n"
          ]
        }
      ]
    },
    {
      "cell_type": "markdown",
      "source": [
        "##This uses the list of player names and outputs level, networth, and skills, but instead of printing writes them to a new .csv file (warning: takes a LONG time to run)"
      ],
      "metadata": {
        "id": "-CDbeBeVT-lq"
      }
    },
    {
      "cell_type": "code",
      "source": [
        "import csv\n",
        "import requests\n",
        "\n",
        "# Open the CSV file in write mode\n",
        "with open('final_players_mode.csv', 'w', newline='', encoding='utf-8') as csvfile:\n",
        "    # Define the CSV writer\n",
        "    fieldnames = ['Player Name', 'Level', 'Net Worth', 'Taming', 'Farming', 'Mining', 'Combat', 'Foraging', 'Fishing', 'Enchanting', 'Alchemy', 'Carpentry', 'Runecrafting', 'Social', 'Gamemode']\n",
        "    csv_writer = csv.DictWriter(csvfile, fieldnames=fieldnames)\n",
        "\n",
        "    # Write the header row\n",
        "    csv_writer.writeheader()\n",
        "\n",
        "    # Open the text file containing player names\n",
        "    with open('final_all_players.txt', 'r') as file:\n",
        "        player_names = [line.strip() for line in file]\n",
        "\n",
        "    # Iterate over each player name\n",
        "    for player_name in player_names:\n",
        "        # Make a GET request to fetch the player's profile data\n",
        "        response = requests.get(f\"https://sky.shiiyu.moe/api/v2/profile/{player_name}\")\n",
        "\n",
        "        # Check if the request was successful (status code 200)\n",
        "        if response.status_code == 200:\n",
        "            # Parse the JSON response\n",
        "            player_data = response.json()\n",
        "\n",
        "            # Extract the current profile\n",
        "            current_profile = None\n",
        "            if 'profiles' in player_data:\n",
        "                for profile_uuid, profile_data in player_data['profiles'].items():\n",
        "                    if profile_data.get('current', False):\n",
        "                        current_profile = profile_data\n",
        "                        break\n",
        "\n",
        "            if current_profile:\n",
        "                # Extract player level\n",
        "                player_level = current_profile['data'].get('skyblock_level', {}).get('level')\n",
        "\n",
        "                # Extract player net worth\n",
        "                player_networth = current_profile['data'].get('networth', {}).get('networth')\n",
        "\n",
        "                # Extract player gamemode\n",
        "                player_gamemode = current_profile.get('game_mode', '')\n",
        "\n",
        "                # Extract player skills\n",
        "                player_skills = {}\n",
        "                if 'skills' in current_profile['data']:\n",
        "                    skills_data = current_profile['data']['skills'].get('skills', {})\n",
        "                    for skill_name in ['taming', 'farming', 'mining', 'combat', 'foraging', 'fishing', 'enchanting', 'alchemy', 'carpentry', 'runecrafting', 'social']:\n",
        "                        skill_level = skills_data.get(skill_name, {}).get('level')\n",
        "                        if skill_level is not None:\n",
        "                            player_skills[skill_name.capitalize()] = skill_level\n",
        "\n",
        "                # Write the player data to the CSV file\n",
        "                row_data = {\n",
        "                    'Player Name': player_name,\n",
        "                    'Level': player_level,\n",
        "                    'Net Worth': player_networth,\n",
        "                    **player_skills,\n",
        "                    'Gamemode': 'Ironman' if player_gamemode.lower() == 'ironman' else 'Not Ironman'\n",
        "                }\n",
        "                csv_writer.writerow(row_data)\n",
        "            else:\n",
        "                print(f\"No current profile found for {player_name}.\")\n",
        "        else:\n",
        "            # Print an error message if the request was unsuccessful\n",
        "            print(f\"Failed to fetch player data for {player_name}.\")\n"
      ],
      "metadata": {
        "colab": {
          "base_uri": "https://localhost:8080/"
        },
        "id": "KXfdhkTleVI9",
        "outputId": "f455bcdb-7393-40ba-8515-5a0d5d59266c"
      },
      "execution_count": null,
      "outputs": [
        {
          "output_type": "stream",
          "name": "stdout",
          "text": [
            "Failed to fetch player data for EmeraldThrone12.\n",
            "Failed to fetch player data for imanoub_.\n",
            "Failed to fetch player data for xenstil_.\n",
            "Failed to fetch player data for MaxUlysse.\n",
            "Failed to fetch player data for videogarrett.\n",
            "Failed to fetch player data for grayson9013.\n",
            "Failed to fetch player data for Hiiroson.\n",
            "Failed to fetch player data for derpo.\n",
            "Failed to fetch player data for dbbo.\n",
            "Failed to fetch player data for Draxyte.\n",
            "Failed to fetch player data for DarkDPumpkin.\n",
            "Failed to fetch player data for GeodeStrike.\n",
            "Failed to fetch player data for strawstraw109.\n",
            "Failed to fetch player data for the_dang_man69.\n",
            "Failed to fetch player data for hydronium_core.\n",
            "Failed to fetch player data for weenie.\n",
            "Failed to fetch player data for IamThomas03.\n",
            "Failed to fetch player data for Nerida_.\n",
            "Failed to fetch player data for LavamanThePro.\n",
            "Failed to fetch player data for Nightmare6178.\n",
            "Failed to fetch player data for TreeDuck0716.\n",
            "Failed to fetch player data for JahAllen.\n",
            "Failed to fetch player data for Warp103.\n",
            "Failed to fetch player data for Rymar68.\n",
            "Failed to fetch player data for SoyMandoneao_Leo.\n",
            "Failed to fetch player data for heismineta.\n",
            "Failed to fetch player data for IgnDarius.\n",
            "Failed to fetch player data for giga_chad_77.\n",
            "Failed to fetch player data for R4EK.\n",
            "Failed to fetch player data for itzLunaLove.\n",
            "Failed to fetch player data for kumikuuu.\n",
            "Failed to fetch player data for smokey_2k5.\n",
            "Failed to fetch player data for mrmage_.\n",
            "Failed to fetch player data for Purple___guy.\n",
            "Failed to fetch player data for KingXonia8550.\n",
            "Failed to fetch player data for zqrkzu.\n",
            "Failed to fetch player data for Zqkoo.\n",
            "Failed to fetch player data for Emiliss.\n",
            "Failed to fetch player data for XmoNsterLas.\n",
            "Failed to fetch player data for Cooler_Jungle1603.\n",
            "Failed to fetch player data for OG_Nooblord.\n",
            "Failed to fetch player data for MrJordan64011.\n",
            "Failed to fetch player data for Sillycat444.\n",
            "Failed to fetch player data for FortniteFrank69.\n",
            "Failed to fetch player data for Milesy203.\n",
            "Failed to fetch player data for 0Leylan0.\n",
            "Failed to fetch player data for john31659.\n",
            "Failed to fetch player data for Delta_skynox12.\n",
            "Failed to fetch player data for NotsoOW.\n",
            "Failed to fetch player data for OnaticBark.\n",
            "Failed to fetch player data for Crypto_King.\n",
            "Failed to fetch player data for ElectricMan.\n",
            "Failed to fetch player data for ck4au.\n",
            "Failed to fetch player data for Ju1esXD.\n",
            "Failed to fetch player data for SpeedStar101.\n",
            "Failed to fetch player data for ReainarNKEP.\n",
            "Failed to fetch player data for C00pD0g7645.\n",
            "Failed to fetch player data for Mr_Yh.\n",
            "Failed to fetch player data for E4thIsFlat.\n",
            "Failed to fetch player data for AllocatedX.\n",
            "Failed to fetch player data for Pyloji.\n",
            "Failed to fetch player data for Eliotistse.\n",
            "Failed to fetch player data for Struxe.\n",
            "Failed to fetch player data for liuvja.\n",
            "Failed to fetch player data for xSouplex.\n",
            "Failed to fetch player data for WitheredX2_.\n",
            "Failed to fetch player data for ge_0.\n",
            "Failed to fetch player data for Nils3q.\n",
            "Failed to fetch player data for Galbaky.\n",
            "Failed to fetch player data for Beagle9000.\n",
            "Failed to fetch player data for Enzos_Pluto.\n",
            "Failed to fetch player data for SMB101.\n",
            "Failed to fetch player data for xAtroxus.\n",
            "Failed to fetch player data for Ju_sir43.\n",
            "Failed to fetch player data for WillowVaughn.\n",
            "Failed to fetch player data for ApeTakeOver.\n",
            "Failed to fetch player data for blt_sandwich69.\n",
            "Failed to fetch player data for aLittleBigMan.\n",
            "Failed to fetch player data for IsaiahMclarry.\n",
            "Failed to fetch player data for SLURP_LORD.\n",
            "Failed to fetch player data for HaloSalty.\n",
            "Failed to fetch player data for kakashi6415.\n",
            "Failed to fetch player data for DSR879.\n",
            "Failed to fetch player data for Nroodles.\n",
            "Failed to fetch player data for Ironbeam2000.\n",
            "Failed to fetch player data for FroggyCraftt.\n",
            "Failed to fetch player data for SkylarWhiteWolf.\n",
            "Failed to fetch player data for KC_Melyr.\n",
            "Failed to fetch player data for Doofulz.\n",
            "Failed to fetch player data for Okusto.\n",
            "Failed to fetch player data for DuckyDylan.\n",
            "Failed to fetch player data for BracEarths.\n",
            "Failed to fetch player data for Cr4zyScorpion.\n",
            "Failed to fetch player data for Fatchickennugget.\n",
            "Failed to fetch player data for Zamn___.\n",
            "Failed to fetch player data for EpicWinGamer2.\n",
            "Failed to fetch player data for IYSMITL.\n",
            "Failed to fetch player data for DraganFilterXL.\n",
            "Failed to fetch player data for pdp_cool.\n",
            "Failed to fetch player data for deadzombie142.\n",
            "Failed to fetch player data for _Talentloser.\n",
            "Failed to fetch player data for Matshgi.\n",
            "Failed to fetch player data for loyalAU1174.\n",
            "Failed to fetch player data for Finnnali.\n",
            "Failed to fetch player data for MegaDoom3.\n",
            "Failed to fetch player data for diamondminer2348.\n",
            "Failed to fetch player data for Ludalucs.\n",
            "Failed to fetch player data for Flame_Harpy.\n",
            "Failed to fetch player data for _Monk3y.\n",
            "Failed to fetch player data for RankEclipse7772.\n",
            "Failed to fetch player data for OgleWasHe.\n",
            "Failed to fetch player data for Peanut082687.\n",
            "Failed to fetch player data for Milesy203.\n",
            "Failed to fetch player data for Greedy321.\n",
            "Failed to fetch player data for happybait.\n",
            "Failed to fetch player data for 0Leylan0.\n",
            "Failed to fetch player data for MagicLars1995.\n",
            "Failed to fetch player data for KIRBOITHEGOD1.\n",
            "Failed to fetch player data for CrimsonDoge.\n",
            "Failed to fetch player data for TheFirestorm911.\n",
            "Failed to fetch player data for MrBrain.\n",
            "Failed to fetch player data for Reallee.\n",
            "Failed to fetch player data for Lecroton.\n",
            "Failed to fetch player data for DmB_Joker.\n",
            "Failed to fetch player data for TehPig_YTAnexusGamer.\n",
            "Failed to fetch player data for Not_The_Human.\n",
            "Failed to fetch player data for keebuilder.\n",
            "Failed to fetch player data for Nala_Kala.\n",
            "Failed to fetch player data for RusticNarwhal.\n",
            "Failed to fetch player data for SharpCortez.\n",
            "Failed to fetch player data for xDbi.\n",
            "Failed to fetch player data for MomyZuae.\n",
            "Failed to fetch player data for PhenixPlayer.\n",
            "Failed to fetch player data for Tyrbrelk_.\n",
            "Failed to fetch player data for Mastercookbook.\n",
            "Failed to fetch player data for JellyFosh2400.\n",
            "Failed to fetch player data for imadragon375.\n",
            "Failed to fetch player data for Krisal3215.\n",
            "Failed to fetch player data for TheDoubleBlaze1.\n",
            "Failed to fetch player data for _JetSki.\n",
            "Failed to fetch player data for Nikhocarbe.\n",
            "Failed to fetch player data for ApolloMoon2014.\n",
            "Failed to fetch player data for Dom1524.\n",
            "Failed to fetch player data for Panda_SRlautirodriguez.\n",
            "time: 22min 27s (started: 2024-04-19 02:49:19 +00:00)\n"
          ]
        }
      ]
    },
    {
      "cell_type": "code",
      "source": [
        "df = pd.read_csv('final_1000_players.csv')\n",
        "\n",
        "# Print the first few rows (head) of the DataFrame\n",
        "df.head()\n",
        "df.info()"
      ],
      "metadata": {
        "colab": {
          "base_uri": "https://localhost:8080/"
        },
        "id": "IjiBT1gMay_k",
        "outputId": "e9ec18c3-9129-4f4b-bfbe-531382ba4fe1"
      },
      "execution_count": null,
      "outputs": [
        {
          "output_type": "stream",
          "name": "stdout",
          "text": [
            "<class 'pandas.core.frame.DataFrame'>\n",
            "RangeIndex: 998 entries, 0 to 997\n",
            "Data columns (total 14 columns):\n",
            " #   Column        Non-Null Count  Dtype  \n",
            "---  ------        --------------  -----  \n",
            " 0   Player Name   998 non-null    object \n",
            " 1   Level         998 non-null    int64  \n",
            " 2   Net Worth     998 non-null    float64\n",
            " 3   Taming        998 non-null    int64  \n",
            " 4   Farming       998 non-null    int64  \n",
            " 5   Mining        998 non-null    int64  \n",
            " 6   Combat        998 non-null    int64  \n",
            " 7   Foraging      998 non-null    int64  \n",
            " 8   Fishing       998 non-null    int64  \n",
            " 9   Enchanting    998 non-null    int64  \n",
            " 10  Alchemy       998 non-null    int64  \n",
            " 11  Carpentry     998 non-null    int64  \n",
            " 12  Runecrafting  954 non-null    float64\n",
            " 13  Social        954 non-null    float64\n",
            "dtypes: float64(3), int64(10), object(1)\n",
            "memory usage: 109.3+ KB\n"
          ]
        }
      ]
    },
    {
      "cell_type": "markdown",
      "source": [
        "##The following paired down the top 1000 players to 100 and added in a bunch of random players from levels 1-400 in order to decrease the weight of the top players and add in an appropriate number of players below that level, so now I should have a big sample of players of all levels"
      ],
      "metadata": {
        "id": "aCHhwFydFc3L"
      }
    },
    {
      "cell_type": "code",
      "source": [
        "import csv\n",
        "\n",
        "# Open the input and output CSV files\n",
        "with open('top_1000_players.txt', 'r') as input_file, open('final_all_players.txt', 'w', newline='') as output_file:\n",
        "    # Create a CSV reader and writer objects\n",
        "    reader = csv.reader(input_file)\n",
        "    writer = csv.writer(output_file)\n",
        "\n",
        "    # Loop through each row in the input CSV file\n",
        "    for i, row in enumerate(reader):\n",
        "        # Check if the row number is divisible by 4 (0-based index)\n",
        "        if i % 10 == 0:\n",
        "            # Write the selected row to the output CSV file\n",
        "            writer.writerow(row)\n",
        "    with open('random_players.txt', 'r') as random_file:\n",
        "        for line in random_file:\n",
        "            output_file.write(line)"
      ],
      "metadata": {
        "id": "6_uF76Ej-4KM"
      },
      "execution_count": null,
      "outputs": []
    }
  ]
}